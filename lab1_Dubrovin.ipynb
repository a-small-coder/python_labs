{
 "cells": [
  {
   "cell_type": "markdown",
   "metadata": {},
   "source": [
    "# Лабораторная работа №1\n",
    "## Выполнил студент группы БВТ2002 Дубровин Олег\n",
    "\n",
    "\n",
    "\n",
    "### Задание №1"
   ]
  },
  {
   "cell_type": "code",
   "execution_count": 49,
   "metadata": {},
   "outputs": [
    {
     "name": "stdout",
     "output_type": "stream",
     "text": [
      "Hello world!\n"
     ]
    }
   ],
   "source": [
    "print(\"Hello world!\")"
   ]
  },
  {
   "cell_type": "markdown",
   "metadata": {},
   "source": [
    "### Задание № 2\n",
    "\n",
    "Написать генератор случайных матриц(многомерных), который принимает\n",
    "опциональные параметры m, n, min_limit, max_limit, где m и n указывают размер\n",
    "матрицы, а min_lim и max_lim - минимальное и максимальное значение для\n",
    "генерируемого числа ."
   ]
  },
  {
   "cell_type": "markdown",
   "metadata": {},
   "source": [
    "#### Генерация матриц"
   ]
  },
  {
   "cell_type": "code",
   "execution_count": 50,
   "metadata": {},
   "outputs": [],
   "source": [
    "## Генерация матриц\n",
    "import random\n",
    "\n",
    "\n",
    "def matrix_generator():\n",
    "    # user_m = input()\n",
    "    # user_n = input()\n",
    "    # user_min_limit = input()\n",
    "    # user_max_limit = input()\n",
    "    user_m = ''\n",
    "    user_n = ''\n",
    "    user_min_limit = ''\n",
    "    user_max_limit = ''\n",
    "    if user_m == '':\n",
    "        m = LIST_LENGTH\n",
    "    else:\n",
    "        m = int(user_m)\n",
    "\n",
    "    if user_n == '':\n",
    "        n = LIST_LENGTH\n",
    "    else:\n",
    "        n = int(user_n)\n",
    "\n",
    "    if user_min_limit == '':\n",
    "        min_limit = MIN_NUMBER\n",
    "    else:\n",
    "        min_limit = int(user_min_limit)\n",
    "\n",
    "    if user_max_limit == '':\n",
    "        max_limit = MAX_NUMBER\n",
    "    else:\n",
    "        max_limit = int(user_max_limit)\n",
    "\n",
    "    arr = [[random.randint(min_limit, max_limit) for i in range(m)] for i in range(n)]\n",
    "\n",
    "    for line in arr:\n",
    "        print(line)\n",
    "    return arr"
   ]
  },
  {
   "cell_type": "markdown",
   "metadata": {},
   "source": [
    "#### Функция для запуска сортировки и подсчета времени"
   ]
  },
  {
   "cell_type": "code",
   "execution_count": 51,
   "metadata": {},
   "outputs": [],
   "source": [
    "## Функция для запуска сортировки и подсчета времени\n",
    "\n",
    "import time\n",
    "\n",
    "\n",
    "def sort_matrix(matrix, sort_function):\n",
    "    start_time = time.time()\n",
    "    i = 0\n",
    "    for line in matrix:\n",
    "        matrix[i] = sort_function(line)\n",
    "        print(matrix[i])\n",
    "        i += 1\n",
    "    print(\"--- {0} ms ---\".format(round((time.time() - start_time) * 1000)))\n",
    "    TIME_LIST.append(round((time.time() - start_time) * 1000))"
   ]
  },
  {
   "cell_type": "markdown",
   "metadata": {},
   "source": [
    "### Задание № 3\n",
    "Реализовать методы сортировки строк числовой матрицы в соответствии с\n",
    "заданием. Оценить время работы каждого алгоритма сортировки и сравнить его со\n",
    "временем стандартной функции сортировки. Испытания проводить на сгенерированных\n",
    "матрицах."
   ]
  },
  {
   "cell_type": "markdown",
   "metadata": {},
   "source": [
    "#### Класс кучи"
   ]
  },
  {
   "cell_type": "code",
   "execution_count": 52,
   "metadata": {},
   "outputs": [],
   "source": [
    "## Класс кучи\n",
    "# classes\n",
    "class Heap:\n",
    "\n",
    "    # list = []\n",
    "\n",
    "    def __init__(self, arr):\n",
    "        self.list = arr\n",
    "        for i in range(len(arr) // 2 - 1, -1, -1):\n",
    "            self.heapify(i)\n",
    "\n",
    "    def add(self, val):\n",
    "        self.list.append(val)\n",
    "        i = len(self.list) - 1\n",
    "        parent = int((i - 1) // 2)\n",
    "\n",
    "        while i > 0 and self.list[parent] < self.list[i]:\n",
    "            self.list[i], self.list[parent] = self.list[parent], self.list[i]\n",
    "            i = parent\n",
    "            parent = int((i - 1) // 2)\n",
    "\n",
    "    def heapify(self, i):\n",
    "        left_child = 2 * i + 1\n",
    "        right_child = 2 * i + 2\n",
    "        largest = i\n",
    "\n",
    "        if left_child < len(self.list) and self.list[left_child] > self.list[largest]:\n",
    "            largest = left_child\n",
    "\n",
    "        if right_child < len(self.list) and self.list[right_child] > self.list[largest]:\n",
    "            largest = right_child\n",
    "\n",
    "        if largest != i:\n",
    "            self.list[i], self.list[largest] = self.list[largest], self.list[i]  # swap\n",
    "\n",
    "            # Heapify the root.\n",
    "            self.heapify(largest)\n",
    "\n",
    "    def get_max(self):\n",
    "        # print(self.list, \" || heap list \")\n",
    "        res = self.list[0]\n",
    "        self.list[0] = self.list[-1]\n",
    "        self.list.pop(-1)\n",
    "        return res\n",
    "\n",
    "    def sort(self):\n",
    "        for i in range(len(self.list) - 1, 0, -1):\n",
    "            self.list[i], self.list[0] = self.list[0], self.list[i]  # swap\n",
    "            self.heapify(0)\n",
    "\n",
    "\n"
   ]
  },
  {
   "cell_type": "markdown",
   "metadata": {},
   "source": [
    "#### сортировка выбором"
   ]
  },
  {
   "cell_type": "code",
   "execution_count": 53,
   "metadata": {},
   "outputs": [],
   "source": [
    "# сортировка выбором\n",
    "# В неотсортированном подмассиве ищется локальный максимум.\n",
    "# Найденный максимум меняется местами с последним элементом в подмассиве.\n",
    "# Если в массиве остались неотсортированные подмассивы — смотри пункт 1.\n",
    "def select_sort(arr):\n",
    "    sorted_list_start_index = len(arr) - 1\n",
    "    while sorted_list_start_index > 0:\n",
    "        max_num_index = 0\n",
    "        # find a max number in unsorted list\n",
    "        for i in range(sorted_list_start_index + 1):\n",
    "            max_num_index = arr.index(max(arr[i], arr[max_num_index]))\n",
    "        # swap elements\n",
    "        arr[max_num_index], arr[sorted_list_start_index] = arr[sorted_list_start_index], arr[max_num_index]\n",
    "        # reduce length of unsorted list\n",
    "        sorted_list_start_index -= 1\n",
    "    return arr\n"
   ]
  },
  {
   "cell_type": "markdown",
   "metadata": {},
   "source": [
    "#### сортировка вставкой"
   ]
  },
  {
   "cell_type": "code",
   "execution_count": 54,
   "metadata": {},
   "outputs": [],
   "source": [
    "# сортировка вставкой\n",
    "# Перебираются элементы в неотсортированной части массива.\n",
    "# Каждый элемент вставляется в отсортированную часть массива на то место, где он должен находиться\n",
    "def insertion_sort(arr):\n",
    "    for i in range(len(arr)):\n",
    "        # index_of_sorted_list\n",
    "        j = i - 1\n",
    "        inserting_num = arr[i]\n",
    "        while arr[j] > inserting_num and j >= 0:\n",
    "            arr[j + 1] = arr[j]\n",
    "            j -= 1\n",
    "        arr[j + 1] = inserting_num\n",
    "    return arr\n"
   ]
  },
  {
   "cell_type": "markdown",
   "metadata": {},
   "source": [
    "#### сортировка обменом"
   ]
  },
  {
   "cell_type": "code",
   "execution_count": 55,
   "metadata": {},
   "outputs": [],
   "source": [
    "# сортировка обменом\n",
    "# Попарно сравниваются элементы массива\n",
    "# Если элемент слева больше элемента справа, то элементы меняются местами\n",
    "# Повторяем пункты 1-2 до тех пор, пока массив не отсортируется\n",
    "def bubble_sort(arr):\n",
    "    for i in range(len(arr)):\n",
    "        for j in range(len(arr)):\n",
    "            arr[j], arr[i] = min(arr[i], arr[j]), max(arr[i], arr[j])\n",
    "    return arr\n"
   ]
  },
  {
   "cell_type": "markdown",
   "metadata": {},
   "source": [
    "#### сортировка расческой и шелла"
   ]
  },
  {
   "cell_type": "code",
   "execution_count": 56,
   "metadata": {},
   "outputs": [],
   "source": [
    "# сортировка расческой\n",
    "# как пузырек, только сначала берётся достаточно большое расстояние\n",
    "# между сравниваемыми значениями, а потом оно сужается вплоть до минимального.\n",
    "def comb_sort(arr):\n",
    "    factor = 1.247\n",
    "    step = len(arr) - 1\n",
    "    while step >= 1:\n",
    "        i = 0\n",
    "        while i + step < len(arr):\n",
    "            arr[i], arr[i+step] = min(arr[i], arr[i+step]), max(arr[i], arr[i+step])\n",
    "            i += 1\n",
    "        step = int(step / factor)\n",
    "    return bubble_sort(arr)\n",
    "\n",
    "\n",
    "# сортировка Шелла\n",
    "# как сортировка расческой, только выбирается более \"правильное\" расстояние\n",
    "def shell_sort_hib(arr):\n",
    "    step = get_hibbad_steps(len(arr))\n",
    "    while step >= 1:\n",
    "        i = 0\n",
    "        while i + step < len(arr):\n",
    "            arr[i], arr[i+step] = min(arr[i], arr[i+step]), max(arr[i], arr[i+step])\n",
    "            i += 1\n",
    "        step = int(step / 2)\n",
    "    return bubble_sort(arr)\n",
    "\n",
    "\n",
    "# получение стартового шага по последовательности Хиббада\n",
    "def get_hibbad_steps(n):\n",
    "    step = 1\n",
    "    while step < n:\n",
    "        step *= 2\n",
    "    step -= 1\n",
    "    return step\n",
    "\n"
   ]
  },
  {
   "cell_type": "markdown",
   "metadata": {},
   "source": [
    "#### быстрая сортировка"
   ]
  },
  {
   "cell_type": "code",
   "execution_count": 57,
   "metadata": {},
   "outputs": [],
   "source": [
    "# быстрая сортировка\n",
    "# Этот алгоритм состоит из трёх шагов.\n",
    "# Сначала из массива нужно выбрать один элемент — его обычно называют опорным.\n",
    "# Затем другие элементы в массиве перераспределяют так,\n",
    "# чтобы элементы меньше опорного оказались до него, а большие или равные — после.\n",
    "# А дальше рекурсивно применяют первые два шага к подмассивам справа и слева от опорного значения.\n",
    "def quick_sort(arr):\n",
    "    _quick_sort(arr, 0, len(arr)-1)\n",
    "    return arr\n",
    "\n",
    "\n",
    "def _quick_sort(arr, left, right):\n",
    "    if left < right:\n",
    "        median = simple_step(left, right, arr)\n",
    "        _quick_sort(arr, left, median-1)\n",
    "        _quick_sort(arr, median+1, right)\n",
    "\n",
    "\n",
    "def simple_step(left, right, arr):\n",
    "    main = arr[right]\n",
    "    less = left\n",
    "    for i in range(left, right+1):\n",
    "        if arr[i] < main:\n",
    "            arr[i], arr[less] = arr[less], arr[i]\n",
    "            less += 1\n",
    "    arr[less], arr[right] = arr[right], arr[less]\n",
    "    return less\n"
   ]
  },
  {
   "cell_type": "markdown",
   "metadata": {},
   "source": [
    "#### пирамидальная сортировка"
   ]
  },
  {
   "cell_type": "code",
   "execution_count": 58,
   "metadata": {},
   "outputs": [],
   "source": [
    "# пирамидальная сортировка\n",
    "def heap_sort(arr):\n",
    "    my_heap = Heap(copy.deepcopy(arr))\n",
    "    for i in range(len(arr) - 1, -1, -1):\n",
    "        arr[i] = my_heap.get_max()\n",
    "        my_heap.heapify(0)\n",
    "    return arr"
   ]
  },
  {
   "cell_type": "markdown",
   "metadata": {},
   "source": [
    "#### турнирная сортировка"
   ]
  },
  {
   "cell_type": "code",
   "execution_count": 59,
   "metadata": {},
   "outputs": [],
   "source": [
    "# турнирная сортировка\n",
    "def tournament_sort(arr):\n",
    "    arr = new_tour(arr)\n",
    "    arr.reverse()   # because max-heap\n",
    "    return arr\n",
    "\n",
    "\n",
    "def new_tour(arr):\n",
    "    array_slice = []\n",
    "    for i in range(len(arr)):\n",
    "        if i == HEAP_SIZE:\n",
    "            break\n",
    "        array_slice.append(arr[i])\n",
    "    arr = arr[len(array_slice):]\n",
    "    heap = Heap(array_slice)\n",
    "    winners = []\n",
    "    losers = []\n",
    "\n",
    "    while len(arr) > 0:\n",
    "        if len(winners) == 0:\n",
    "            winners.append(heap.get_max())\n",
    "            heap.heapify(0)\n",
    "\n",
    "        if arr[0] < winners[-1]:\n",
    "            heap.add(arr[0])\n",
    "            arr.pop(0)\n",
    "        else:\n",
    "            losers.append(arr[0])\n",
    "            arr.pop(0)\n",
    "\n",
    "        if len(heap.list) > 0:\n",
    "            winners.append(heap.get_max())\n",
    "            heap.heapify(0)\n",
    "\n",
    "    while len(heap.list) > 0:\n",
    "        winners.append(heap.get_max())\n",
    "        heap.heapify(0)\n",
    "\n",
    "    if len(losers) == 0:\n",
    "        return winners\n",
    "\n",
    "    arr = losers + winners\n",
    "    return new_tour(arr)"
   ]
  },
  {
   "cell_type": "markdown",
   "metadata": {},
   "source": [
    "### Запуск программы"
   ]
  },
  {
   "cell_type": "code",
   "execution_count": 66,
   "metadata": {},
   "outputs": [
    {
     "name": "stdout",
     "output_type": "stream",
     "text": [
      "[241, 911, 610, -154, 9]\n",
      "[44, 391, 824, 833, 338]\n",
      "[616, 891, 936, 511, 335]\n",
      "[-223, 960, -249, 523, 65]\n",
      "[761, -46, 75, 281, -59]\n",
      "[241, 911, 610, -154, 9]\n",
      "[44, 391, 824, 833, 338]\n",
      "[616, 891, 936, 511, 335]\n",
      "[-223, 960, -249, 523, 65]\n",
      "[761, -46, 75, 281, -59]\n",
      "\n",
      "select_sort\n",
      "[-154, 9, 241, 610, 911]\n",
      "[44, 338, 391, 824, 833]\n",
      "[335, 511, 616, 891, 936]\n",
      "[-249, -223, 65, 523, 960]\n",
      "[-59, -46, 75, 281, 761]\n",
      "--- 0 ms ---\n",
      "\n",
      "insertion_sort\n",
      "[-154, 9, 241, 610, 911]\n",
      "[44, 338, 391, 824, 833]\n",
      "[335, 511, 616, 891, 936]\n",
      "[-249, -223, 65, 523, 960]\n",
      "[-59, -46, 75, 281, 761]\n",
      "--- 0 ms ---\n",
      "\n",
      "bubble_sort\n",
      "[-154, 9, 241, 610, 911]\n",
      "[44, 338, 391, 824, 833]\n",
      "[335, 511, 616, 891, 936]\n",
      "[-249, -223, 65, 523, 960]\n",
      "[-59, -46, 75, 281, 761]\n",
      "--- 1 ms ---\n",
      "\n",
      "comb_sort\n",
      "[-154, 9, 241, 610, 911]\n",
      "[44, 338, 391, 824, 833]\n",
      "[335, 511, 616, 891, 936]\n",
      "[-249, -223, 65, 523, 960]\n",
      "[-59, -46, 75, 281, 761]\n",
      "--- 0 ms ---\n",
      "\n",
      "shell_sort_hib\n",
      "[-154, 9, 241, 610, 911]\n",
      "[44, 338, 391, 824, 833]\n",
      "[335, 511, 616, 891, 936]\n",
      "[-249, -223, 65, 523, 960]\n",
      "[-59, -46, 75, 281, 761]\n",
      "--- 0 ms ---\n",
      "\n",
      "comb_sort\n",
      "[-154, 9, 241, 610, 911]\n",
      "[44, 338, 391, 824, 833]\n",
      "[335, 511, 616, 891, 936]\n",
      "[-249, -223, 65, 523, 960]\n",
      "[-59, -46, 75, 281, 761]\n",
      "--- 1 ms ---\n",
      "\n",
      "quick_sort\n",
      "[-154, 9, 241, 610, 911]\n",
      "[44, 338, 391, 824, 833]\n",
      "[335, 511, 616, 891, 936]\n",
      "[-249, -223, 65, 523, 960]\n",
      "[-59, -46, 75, 281, 761]\n",
      "--- 0 ms ---\n",
      "\n",
      "heap_sort\n",
      "[-154, 9, 241, 610, 911]\n",
      "[44, 338, 391, 824, 833]\n",
      "[335, 511, 616, 891, 936]\n",
      "[-249, -223, 65, 523, 960]\n",
      "[-59, -46, 75, 281, 761]\n",
      "--- 0 ms ---\n",
      "\n",
      "tournament_sort\n",
      "[-154, 9, 241, 610, 911]\n",
      "[44, 338, 391, 824, 833]\n",
      "[335, 511, 616, 891, 936]\n",
      "[-249, -223, 65, 523, 960]\n",
      "[-59, -46, 75, 281, 761]\n",
      "--- 1 ms ---\n",
      "размерность матрицы:  5\n",
      "максимальный элемент матрицы:  1012\n",
      "минимальный элемент матрицы:  -250\n",
      "['select_sort', 'insertion_sort', 'bubble_sort', 'comb_sort', 'shell_sort_hib', 'comb_sort', 'quick_sort', 'heap_sort', 'tournament_sort']\n",
      "[0, 0, 1, 0, 0, 1, 0, 0, 1]\n"
     ]
    }
   ],
   "source": [
    "# константы\n",
    "LIST_LENGTH = 5\n",
    "MIN_NUMBER = -250\n",
    "MAX_NUMBER = 1012\n",
    "HEAP_SIZE = 20\n",
    "TIME_LIST = []\n",
    "SORTS_TYPES_LIST = []\n",
    "\n",
    "main()\n",
    "\n",
    "print('размерность матрицы: ', LIST_LENGTH)\n",
    "print('максимальный элемент матрицы: ', MAX_NUMBER)\n",
    "print('минимальный элемент матрицы: ', MIN_NUMBER)\n",
    "print(SORTS_TYPES_LIST)\n",
    "print(TIME_LIST)"
   ]
  },
  {
   "cell_type": "markdown",
   "metadata": {},
   "source": [
    "#### Точка входа в программу"
   ]
  },
  {
   "cell_type": "code",
   "execution_count": 65,
   "metadata": {},
   "outputs": [],
   "source": [
    "## Точка входа в программу\n",
    "\n",
    "import copy\n",
    "\n",
    "def main():\n",
    "    matrix = matrix_generator()\n",
    "    for line in matrix:\n",
    "        print(line)\n",
    "\n",
    "    print('\\nselect_sort')\n",
    "    SORTS_TYPES_LIST.append('select_sort')\n",
    "    sort_matrix(copy.deepcopy(matrix), select_sort)\n",
    "\n",
    "    print('\\ninsertion_sort')\n",
    "    SORTS_TYPES_LIST.append('insertion_sort')\n",
    "    sort_matrix(copy.deepcopy(matrix), insertion_sort)\n",
    "\n",
    "    print('\\nbubble_sort')\n",
    "    SORTS_TYPES_LIST.append('bubble_sort')\n",
    "    sort_matrix(copy.deepcopy(matrix), bubble_sort)\n",
    "\n",
    "    print('\\ncomb_sort')\n",
    "    SORTS_TYPES_LIST.append('comb_sort')\n",
    "    sort_matrix(copy.deepcopy(matrix), comb_sort)\n",
    "\n",
    "    print('\\nshell_sort_hib')\n",
    "    SORTS_TYPES_LIST.append('shell_sort_hib')\n",
    "    sort_matrix(copy.deepcopy(matrix), shell_sort_hib)\n",
    "\n",
    "    print('\\ncomb_sort')\n",
    "    SORTS_TYPES_LIST.append('comb_sort')\n",
    "    sort_matrix(copy.deepcopy(matrix), comb_sort)\n",
    "\n",
    "    print('\\nquick_sort')\n",
    "    SORTS_TYPES_LIST.append('quick_sort')\n",
    "    sort_matrix(copy.deepcopy(matrix), quick_sort)\n",
    "\n",
    "    print('\\nheap_sort')\n",
    "    SORTS_TYPES_LIST.append('heap_sort')\n",
    "    sort_matrix(copy.deepcopy(matrix), heap_sort)\n",
    "\n",
    "    print('\\ntournament_sort')\n",
    "    SORTS_TYPES_LIST.append('tournament_sort')\n",
    "    sort_matrix(copy.deepcopy(matrix), tournament_sort)\n",
    "    "
   ]
  },
  {
   "cell_type": "code",
   "execution_count": null,
   "metadata": {},
   "outputs": [],
   "source": []
  }
 ],
 "metadata": {
  "kernelspec": {
   "display_name": "Python 3",
   "language": "python",
   "name": "python3"
  },
  "language_info": {
   "codemirror_mode": {
    "name": "ipython",
    "version": 3
   },
   "file_extension": ".py",
   "mimetype": "text/x-python",
   "name": "python",
   "nbconvert_exporter": "python",
   "pygments_lexer": "ipython3",
   "version": "3.8.3"
  }
 },
 "nbformat": 4,
 "nbformat_minor": 4
}
